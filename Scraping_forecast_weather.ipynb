{
 "cells": [
  {
   "attachments": {},
   "cell_type": "markdown",
   "metadata": {},
   "source": [
    "Task 2 Solution\n",
    "--------- \n",
    "Scraping from forecast weather\n",
    "Imagine you work for forecast weather Now imagine your boss wants you to find the temperture for each day in celsius degree. How could you do this with Beautiful Soup?\n",
    "use this web site to help you https://forecast.weather.gov/MapClick.php?lat=37.7772&lon=-122.4168"
   ]
  },
  {
   "cell_type": "code",
   "execution_count": 14,
   "metadata": {},
   "outputs": [],
   "source": [
    "import requests\n",
    "from bs4 import BeautifulSoup\n",
    "from datetime import date"
   ]
  },
  {
   "cell_type": "code",
   "execution_count": 27,
   "metadata": {},
   "outputs": [
    {
     "name": "stdout",
     "output_type": "stream",
     "text": [
      "Temprature of Today 2023-03-14 in Celsius is 13°C\n"
     ]
    }
   ],
   "source": [
    "req=requests.get(\"https://forecast.weather.gov/MapClick.php?lat=37.7772&lon=-122.4168#.ZBAzU3bP25c\").text\n",
    "soap=BeautifulSoup(req,\"html.parser\")\n",
    "today_Temp=soap.find(\"p\",attrs={\"class\":\"myforecast-current-sm\"}).text\n",
    "print(f\"Temprature of Today {str(date.today())} in Celsius is {today_Temp}\")"
   ]
  }
 ],
 "metadata": {
  "kernelspec": {
   "display_name": "DATASCIENCE",
   "language": "python",
   "name": "python3"
  },
  "language_info": {
   "codemirror_mode": {
    "name": "ipython",
    "version": 3
   },
   "file_extension": ".py",
   "mimetype": "text/x-python",
   "name": "python",
   "nbconvert_exporter": "python",
   "pygments_lexer": "ipython3",
   "version": "3.9.16"
  },
  "orig_nbformat": 4
 },
 "nbformat": 4,
 "nbformat_minor": 2
}
