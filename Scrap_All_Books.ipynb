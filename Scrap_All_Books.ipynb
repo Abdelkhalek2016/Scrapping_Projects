{
 "cells": [
  {
   "attachments": {},
   "cell_type": "markdown",
   "metadata": {},
   "source": [
    "Task 3 Solution\n",
    "---------\n",
    "Scrap all books (name, price, rate) for each category and put them into a CSV & Excel file\n",
    "https://books.toscrape.com/"
   ]
  },
  {
   "cell_type": "code",
   "execution_count": 3,
   "metadata": {},
   "outputs": [],
   "source": [
    "import requests\n",
    "from bs4 import BeautifulSoup\n",
    "import csv\n",
    "from tqdm import tqdm\n",
    "import os"
   ]
  },
  {
   "cell_type": "code",
   "execution_count": 8,
   "metadata": {},
   "outputs": [
    {
     "name": "stderr",
     "output_type": "stream",
     "text": [
      "Book_Scraping Progress: 100%|██████████| 1000/1000 [00:43<00:00, 23.17it/s]\n"
     ]
    }
   ],
   "source": [
    "req=requests.get(f\"https://books.toscrape.com/\").text\n",
    "soap=BeautifulSoup(req,\"html.parser\")\n",
    "number_of_pages=int(soap.find(\"ul\",attrs={\"class\":\"pager\"}).find(\"li\",attrs={\"class\":\"current\"}).text.split()[-1])\n",
    "page_number=1\n",
    "pbar=tqdm(desc=\"Book_Scraping Progress\",total=1000)\n",
    "checking_file_exist_before=os.path.exists(\"saving_library_scraping.csv\")\n",
    "with open(\"saving_library_scraping.csv\",mode=\"a\",newline=\"\",encoding='utf-8') as f:\n",
    "    writer=csv.writer(f)\n",
    "    if not (checking_file_exist_before):\n",
    "        writer.writerow([\"Book_Name\",\"Price\",\"Rating\",\"Link\"])\n",
    "    while page_number<=number_of_pages:\n",
    "        req=requests.get(f\"https://books.toscrape.com/catalogue/page-{page_number}.html\").text\n",
    "        soap=BeautifulSoup(req,\"html.parser\")\n",
    "        books=soap.find_all(\"article\",attrs={\"class\",\"product_pod\"})\n",
    "        for book in books:\n",
    "            name=book.find(\"h3\").find(\"a\").get(\"title\")\n",
    "            price=book.find(\"p\",attrs={\"class\":\"price_color\"}).text.strip().removeprefix(\"Â\")\n",
    "            rating=book.find(\"p\").get(\"class\")[1]\n",
    "            link=\"https://books.toscrape.com/catalogue/\"+book.find(\"h3\").find(\"a\").get(\"href\")\n",
    "            writer.writerow([name,price,rating,link])\n",
    "        page_number+=1\n",
    "        f.flush()\n",
    "        pbar.update(len(books))\n",
    "pbar.close()"
   ]
  }
 ],
 "metadata": {
  "kernelspec": {
   "display_name": "DATASCIENCE",
   "language": "python",
   "name": "python3"
  },
  "language_info": {
   "codemirror_mode": {
    "name": "ipython",
    "version": 3
   },
   "file_extension": ".py",
   "mimetype": "text/x-python",
   "name": "python",
   "nbconvert_exporter": "python",
   "pygments_lexer": "ipython3",
   "version": "3.9.16"
  },
  "orig_nbformat": 4
 },
 "nbformat": 4,
 "nbformat_minor": 2
}
