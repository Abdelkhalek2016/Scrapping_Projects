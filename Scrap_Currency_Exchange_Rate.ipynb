{
 "cells": [
  {
   "attachments": {},
   "cell_type": "markdown",
   "metadata": {},
   "source": [
    "Task 1 Solution\n",
    "---------\n",
    "Scrap the USD To EGP Exchange rate from this website\n",
    "https://www.exchangerates.org.uk/Dollars-to-Egyptian-Pounds-currency-conversion-page.html\n",
    "and then use it to make a software that takes amount of USD Dollars from the user and calculate how much will it cost in EGP."
   ]
  },
  {
   "cell_type": "code",
   "execution_count": 1,
   "metadata": {},
   "outputs": [],
   "source": [
    "import requests\n",
    "from bs4 import BeautifulSoup"
   ]
  },
  {
   "cell_type": "code",
   "execution_count": 3,
   "metadata": {},
   "outputs": [
    {
     "name": "stdout",
     "output_type": "stream",
     "text": [
      "Your 65.0 USD is Equivalent to 2009.105 EGP\n"
     ]
    }
   ],
   "source": [
    "req=requests.get(\"https://www.exchangerates.org.uk/Dollars-to-Egyptian-Pounds-currency-conversion-page.html\")\n",
    "htmltext=req.text\n",
    "soap=BeautifulSoup(htmltext,\"html.parser\")\n",
    "rate=float(soap.find(\"span\",attrs={\"id\":\"shd2a\"}).text.split(\" \")[3])\n",
    "number_of_dollars=float(input(\"please enter number of dollars you need to change to egyptian pounds \".title()))\n",
    "print(f\"Your {number_of_dollars} USD is Equivalent to {round(number_of_dollars * rate,3) } EGP\")"
   ]
  }
 ],
 "metadata": {
  "kernelspec": {
   "display_name": "DATASCIENCE",
   "language": "python",
   "name": "python3"
  },
  "language_info": {
   "codemirror_mode": {
    "name": "ipython",
    "version": 3
   },
   "file_extension": ".py",
   "mimetype": "text/x-python",
   "name": "python",
   "nbconvert_exporter": "python",
   "pygments_lexer": "ipython3",
   "version": "3.9.16"
  },
  "orig_nbformat": 4
 },
 "nbformat": 4,
 "nbformat_minor": 2
}
